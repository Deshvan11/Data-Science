{
  "cells": [
    {
      "cell_type": "markdown",
      "metadata": {
        "id": "view-in-github",
        "colab_type": "text"
      },
      "source": [
        "<a href=\"https://colab.research.google.com/github/Deshvan11/Data-Science/blob/main/Numpy_exersises.ipynb\" target=\"_parent\"><img src=\"https://colab.research.google.com/assets/colab-badge.svg\" alt=\"Open In Colab\"/></a>"
      ]
    },
    {
      "cell_type": "code",
      "execution_count": null,
      "id": "20beb902-c142-457c-b76e-3ed9ec7c6d5f",
      "metadata": {
        "id": "20beb902-c142-457c-b76e-3ed9ec7c6d5f"
      },
      "outputs": [],
      "source": []
    },
    {
      "cell_type": "markdown",
      "id": "b8184faf-56e6-4cb5-84bc-9a23cce153fe",
      "metadata": {
        "id": "b8184faf-56e6-4cb5-84bc-9a23cce153fe"
      },
      "source": [
        "**Valid Sudoku**"
      ]
    },
    {
      "cell_type": "code",
      "execution_count": null,
      "id": "01aca062-5ef2-423a-94d1-24cb73fc0551",
      "metadata": {
        "id": "01aca062-5ef2-423a-94d1-24cb73fc0551"
      },
      "outputs": [],
      "source": [
        "s = np.array([\n",
        "    [5, 3, 4, 6, 7, 8, 9, 1, 2],\n",
        "    [6, 7, 2, 1, 9, 5, 3, 4, 8],\n",
        "    [1, 9, 8, 3, 4, 2, 5, 6, 7],\n",
        "\n",
        "    [8, 5, 9, 7, 6, 1, 4, 2, 3],\n",
        "    [4, 2, 6, 8, 5, 3, 7, 9, 1],\n",
        "    [7, 1, 3, 9, 2, 4, 8, 5, 6],\n",
        "\n",
        "    [9, 6, 1, 5, 3, 7, 2, 8, 4],\n",
        "    [2, 8, 7, 4, 1, 9, 6, 3, 5],\n",
        "    [3, 4, 5, 2, 8, 6, 1, 7, 9]\n",
        "])"
      ]
    },
    {
      "cell_type": "markdown",
      "id": "b80e97ca-7b75-4d54-b17b-1dc633d28d21",
      "metadata": {
        "id": "b80e97ca-7b75-4d54-b17b-1dc633d28d21"
      },
      "source": [
        "**General Questions**"
      ]
    },
    {
      "cell_type": "code",
      "execution_count": null,
      "id": "1a661d89-c528-4af5-9117-907f23f8dfeb",
      "metadata": {
        "id": "1a661d89-c528-4af5-9117-907f23f8dfeb"
      },
      "outputs": [],
      "source": [
        "import numpy as np\n",
        "\n",
        "# Columns: [Age, Math Marks, Science Marks]\n",
        "data = np.array([\n",
        "    [18, 85, 78],   # Student 1\n",
        "    [19, 92, 88],   # Student 2\n",
        "    [17, 76, 95],   # Student 3\n",
        "    [18, 65, 70],   # Student 4\n",
        "    [20, 90, 85]    # Student 5\n",
        "])"
      ]
    },
    {
      "cell_type": "code",
      "execution_count": null,
      "id": "cc86649d-6eaf-4f29-ae82-626d87ab0412",
      "metadata": {
        "id": "cc86649d-6eaf-4f29-ae82-626d87ab0412",
        "outputId": "da31b6ee-b2e5-4f15-8a40-e5faa30fa8e2",
        "colab": {
          "base_uri": "https://localhost:8080/"
        }
      },
      "outputs": [
        {
          "output_type": "execute_result",
          "data": {
            "text/plain": [
              "(5, 3)"
            ]
          },
          "metadata": {},
          "execution_count": 3
        }
      ],
      "source": [
        "#Get the shape of the matrix.\n",
        "data.shape"
      ]
    },
    {
      "cell_type": "code",
      "execution_count": null,
      "id": "512ab9df-174c-473a-b85a-edcaf1694bc3",
      "metadata": {
        "id": "512ab9df-174c-473a-b85a-edcaf1694bc3",
        "outputId": "d76e880f-34ef-4660-cbe5-f551decd6ad8",
        "colab": {
          "base_uri": "https://localhost:8080/"
        }
      },
      "outputs": [
        {
          "output_type": "execute_result",
          "data": {
            "text/plain": [
              "np.float64(18.4)"
            ]
          },
          "metadata": {},
          "execution_count": 14
        }
      ],
      "source": [
        "#Find the average age of students.\n",
        "data.mean(axis=0)[0]"
      ]
    },
    {
      "cell_type": "code",
      "execution_count": null,
      "id": "050a5141-ab0a-4e9d-be98-bb37d1e8bd3f",
      "metadata": {
        "id": "050a5141-ab0a-4e9d-be98-bb37d1e8bd3f",
        "outputId": "b5ca9189-8d22-4fad-966f-392f1d881e44",
        "colab": {
          "base_uri": "https://localhost:8080/"
        }
      },
      "outputs": [
        {
          "output_type": "execute_result",
          "data": {
            "text/plain": [
              "array([85, 92, 76, 65, 90])"
            ]
          },
          "metadata": {},
          "execution_count": 12
        }
      ],
      "source": [
        "#Extract Math marks of all students.\n",
        "data[:,1]"
      ]
    },
    {
      "cell_type": "code",
      "execution_count": null,
      "id": "05a724aa-b2b6-4c32-b1f6-03b568d87649",
      "metadata": {
        "id": "05a724aa-b2b6-4c32-b1f6-03b568d87649",
        "outputId": "f7ba4e5a-69f2-4eb5-ff45-7e22ab621396",
        "colab": {
          "base_uri": "https://localhost:8080/"
        }
      },
      "outputs": [
        {
          "output_type": "execute_result",
          "data": {
            "text/plain": [
              "np.int64(95)"
            ]
          },
          "metadata": {},
          "execution_count": 13
        }
      ],
      "source": [
        "#Find the highest Science mark.\n",
        "data.max(axis=0)[2]"
      ]
    },
    {
      "cell_type": "code",
      "execution_count": null,
      "id": "58dbe813-ad7d-4bd1-af72-81f0f7cd86ff",
      "metadata": {
        "id": "58dbe813-ad7d-4bd1-af72-81f0f7cd86ff",
        "outputId": "54207ad7-775e-48d7-bfd8-85d63dd08a52",
        "colab": {
          "base_uri": "https://localhost:8080/"
        }
      },
      "outputs": [
        {
          "output_type": "execute_result",
          "data": {
            "text/plain": [
              "array([[19, 92, 88]])"
            ]
          },
          "metadata": {},
          "execution_count": 25
        }
      ],
      "source": [
        "#Get details of the student who scored more than 90 in Math.\n",
        "data[data[:,1]>90]"
      ]
    },
    {
      "cell_type": "code",
      "source": [
        "data"
      ],
      "metadata": {
        "id": "7fjZZX3xhAa0",
        "outputId": "dd171b9c-0e86-4a6f-a931-107ed96b61a2",
        "colab": {
          "base_uri": "https://localhost:8080/"
        }
      },
      "id": "7fjZZX3xhAa0",
      "execution_count": null,
      "outputs": [
        {
          "output_type": "execute_result",
          "data": {
            "text/plain": [
              "array([[18, 85, 78],\n",
              "       [19, 92, 88],\n",
              "       [17, 76, 95],\n",
              "       [18, 65, 70],\n",
              "       [20, 90, 85]])"
            ]
          },
          "metadata": {},
          "execution_count": 26
        }
      ]
    },
    {
      "cell_type": "code",
      "execution_count": null,
      "id": "0d8d4e9f-e7aa-4926-a432-4565b3e08f27",
      "metadata": {
        "id": "0d8d4e9f-e7aa-4926-a432-4565b3e08f27",
        "outputId": "580ce4f1-d20d-487b-d02b-b9db98b318e3",
        "colab": {
          "base_uri": "https://localhost:8080/"
        }
      },
      "outputs": [
        {
          "output_type": "execute_result",
          "data": {
            "text/plain": [
              "array([90, 97, 81, 70, 95])"
            ]
          },
          "metadata": {},
          "execution_count": 27
        }
      ],
      "source": [
        "#Increase Math marks of all students by 5.\n",
        "data[:,1]+5"
      ]
    },
    {
      "cell_type": "code",
      "execution_count": null,
      "id": "6d3945af-91b5-4e81-ad8d-3ec3dca1119d",
      "metadata": {
        "id": "6d3945af-91b5-4e81-ad8d-3ec3dca1119d",
        "outputId": "39298ecf-c484-4a9e-a0bc-01ba5e458508",
        "colab": {
          "base_uri": "https://localhost:8080/"
        }
      },
      "outputs": [
        {
          "output_type": "execute_result",
          "data": {
            "text/plain": [
              "array([[18, 85, 78],\n",
              "       [17, 76, 95],\n",
              "       [18, 65, 70]])"
            ]
          },
          "metadata": {},
          "execution_count": 40
        }
      ],
      "source": [
        "#Find how many students are younger than 19.\n",
        "data[data[:,0]<19]"
      ]
    },
    {
      "cell_type": "code",
      "execution_count": null,
      "id": "64134eb8-c6d1-4d0b-a19b-1d124b18cf71",
      "metadata": {
        "id": "64134eb8-c6d1-4d0b-a19b-1d124b18cf71",
        "outputId": "a6efca6f-ca0d-43a9-9999-2d1d4616d8a2",
        "colab": {
          "base_uri": "https://localhost:8080/"
        }
      },
      "outputs": [
        {
          "output_type": "stream",
          "name": "stdout",
          "text": [
            "sci : 83.2\n",
            "math: 81.6\n"
          ]
        }
      ],
      "source": [
        "#Calculate the average marks in each subject (column-wise mean).\n",
        "sci= data.mean(axis=0)[2]\n",
        "math= data.mean(axis=0)[1]\n",
        "print('sci :',sci)\n",
        "print('math:',math)"
      ]
    },
    {
      "cell_type": "code",
      "execution_count": null,
      "id": "0c44133f-6641-4da8-9d52-e28ee75098c4",
      "metadata": {
        "id": "0c44133f-6641-4da8-9d52-e28ee75098c4",
        "outputId": "b783b346-288d-4245-f69b-7dbcf3b28c22",
        "colab": {
          "base_uri": "https://localhost:8080/"
        }
      },
      "outputs": [
        {
          "output_type": "execute_result",
          "data": {
            "text/plain": [
              "array([[19, 92, 88],\n",
              "       [20, 90, 85]])"
            ]
          },
          "metadata": {},
          "execution_count": 59
        }
      ],
      "source": [
        "#Get data of students who scored at least 80 in both subjects.\n",
        "data[(data[:,1]>80) & (data[:,2]>80)]"
      ]
    },
    {
      "cell_type": "code",
      "execution_count": null,
      "id": "7619e559-c244-4ca1-add2-7daca65b365e",
      "metadata": {
        "id": "7619e559-c244-4ca1-add2-7daca65b365e",
        "outputId": "7e101216-65e2-4052-f80d-a7e3334a1767",
        "colab": {
          "base_uri": "https://localhost:8080/"
        }
      },
      "outputs": [
        {
          "output_type": "execute_result",
          "data": {
            "text/plain": [
              "array([[18, 85, 78],\n",
              "       [19, 92, 88],\n",
              "       [17, 76, 95],\n",
              "       [ 0,  0,  0],\n",
              "       [20, 90, 85]])"
            ]
          },
          "metadata": {},
          "execution_count": 62
        }
      ],
      "source": [
        "#Replace all Science marks < 75 with 0.\n",
        "data[data[:,2]<75]=0\n",
        "data"
      ]
    },
    {
      "cell_type": "code",
      "source": [],
      "metadata": {
        "id": "cR6ITCNwiiik"
      },
      "id": "cR6ITCNwiiik",
      "execution_count": null,
      "outputs": []
    }
  ],
  "metadata": {
    "kernelspec": {
      "display_name": "Python [conda env:base] *",
      "language": "python",
      "name": "conda-base-py"
    },
    "language_info": {
      "codemirror_mode": {
        "name": "ipython",
        "version": 3
      },
      "file_extension": ".py",
      "mimetype": "text/x-python",
      "name": "python",
      "nbconvert_exporter": "python",
      "pygments_lexer": "ipython3",
      "version": "3.12.7"
    },
    "colab": {
      "provenance": [],
      "include_colab_link": true
    }
  },
  "nbformat": 4,
  "nbformat_minor": 5
}